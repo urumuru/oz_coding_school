{
 "cells": [
  {
   "cell_type": "markdown",
   "metadata": {},
   "source": [
    "<span style=\"font-size:100%\">\n",
    "\n",
    "수업은 모두 열심히 들으셨나요?\n",
    "\n",
    "간혹 강의에서 언급되지 않은 내용이 문제로 나올 수 있습니다.<br>\n",
    "그럴땐 강의 내용 외 문제는 구글링을 통해 해결해주세요<br></span>\n",
    "<span style=\"font-size:80%\">\n",
    "(구글링 또한 개발자가 갖쳐야할 역량 중에 하나랍니다 😊)\n",
    "</span>\n",
    "\n",
    "---"
   ]
  },
  {
   "cell_type": "markdown",
   "metadata": {},
   "source": [
    "### Chapter09 : `Python의 입력과 출력 방식에 대해 알아보고 문제를 해결해보자`"
   ]
  },
  {
   "cell_type": "markdown",
   "metadata": {},
   "source": [
    "<span style=\"font-size:80%\">[문제1]<br><br></span>\n",
    "아래 코드의 실행 결과로 올바른 것을 골라주세요<br>\n",
    "\n",
    "print(' * ', ' * ', ' * ', ' * ', ' * ', ' * ', sep='x')\n",
    "\n",
    "```\n",
    "1. x*x*x*x*x*x*\n",
    "2. ******\n",
    "3. ***x***\n",
    "4. *x*x*x*x*x*\n",
    "```"
   ]
  },
  {
   "cell_type": "markdown",
   "metadata": {},
   "source": [
    "<span style=\"color:red\">답변</span>"
   ]
  },
  {
   "cell_type": "markdown",
   "metadata": {},
   "source": [
    "4"
   ]
  },
  {
   "cell_type": "markdown",
   "metadata": {},
   "source": [
    "----"
   ]
  },
  {
   "cell_type": "markdown",
   "metadata": {},
   "source": [
    "<span style=\"font-size:80%\">[문제2]<br><br></span>\n",
    "두 개의 값을 입력 받아 실수로 x와 y 변수에 저장하는 코드를 골라 주세요\n",
    "\n",
    "\n",
    "1. x, y = input('실수를 입력하세요: ')\n",
    "2. x, y = input('실수를 입력하세요: ').split()\n",
    "3. x = input('실수를 입력하세요'); y = input('실수를 입력하세요')\n",
    "4. x, y = map(float, input('실수를 입력하세요: ').split())"
   ]
  },
  {
   "cell_type": "markdown",
   "metadata": {},
   "source": [
    "<span style=\"color:red\">답변</span>"
   ]
  },
  {
   "cell_type": "markdown",
   "metadata": {},
   "source": [
    "4"
   ]
  },
  {
   "cell_type": "markdown",
   "metadata": {},
   "source": [
    "----"
   ]
  },
  {
   "cell_type": "markdown",
   "metadata": {},
   "source": [
    "<span style=\"font-size:80%\">[문제3]<br><br></span>\n",
    "\n",
    "아래와 같이 주어졌을때 실행 결과와 동일하게 출력되기 위해 1)과 2) 들어갈 코드를 작성해주세요\n",
    "\n",
    "```\n",
    "month = 12\n",
    "day = 25\n",
    "hour = 12\n",
    "minute = 30\n",
    "\n",
    "print(month, day, 1)________)\n",
    "print(hour, minute, 2)_______)\n",
    "\n",
    "```\n",
    "\n",
    "실행 결과 : 1) 12.25,   2) 12:30"
   ]
  },
  {
   "cell_type": "markdown",
   "metadata": {},
   "source": [
    "<span style=\"color:red\">답변</span>"
   ]
  },
  {
   "cell_type": "markdown",
   "metadata": {},
   "source": [
    "1) sep='.' , 2) sep=':'"
   ]
  },
  {
   "cell_type": "markdown",
   "metadata": {},
   "source": [
    "----"
   ]
  },
  {
   "cell_type": "markdown",
   "metadata": {},
   "source": [
    "### Chapter10 : `Python의 시퀀스 자료형 중 하나인 list에 대해 알아보고 문제를 해결해보자`"
   ]
  },
  {
   "cell_type": "markdown",
   "metadata": {},
   "source": [
    "<span style=\"font-size:80%\">[문제1]<br><br></span>\n",
    "아래 리스트에 들어있는 값의 평균을 구하는 코드를 작성해주세요\n",
    "\n",
    "x = [34, 22, 10, 3, 55, 66]"
   ]
  },
  {
   "cell_type": "markdown",
   "metadata": {},
   "source": [
    "<span style=\"color:red\">답변</span>"
   ]
  },
  {
   "cell_type": "markdown",
   "metadata": {},
   "source": [
    "x = [34, 22, 10, 55, 66]\n",
    "average = sum(x) / len(x)\n",
    "print(average)"
   ]
  },
  {
   "cell_type": "markdown",
   "metadata": {},
   "source": [
    "----"
   ]
  },
  {
   "cell_type": "markdown",
   "metadata": {},
   "source": [
    "<span style=\"font-size:80%\">[문제2]<br><br></span>\n",
    "리스트 안에 있는 데이터를 오름차순으로 정렬하는 메소드를 모두 골라주세요\n",
    "\n",
    "1. upper()\n",
    "2. low()\n",
    "3. sort()\n",
    "4. hight()\n",
    "5. sorted()"
   ]
  },
  {
   "cell_type": "markdown",
   "metadata": {},
   "source": [
    "<span style=\"color:red\">답변</span>"
   ]
  },
  {
   "cell_type": "markdown",
   "metadata": {},
   "source": [
    "3, 5"
   ]
  },
  {
   "cell_type": "markdown",
   "metadata": {},
   "source": [
    "----"
   ]
  },
  {
   "cell_type": "markdown",
   "metadata": {},
   "source": [
    "<span style=\"font-size:80%\">[문제3]<br><br></span>\n",
    "리스트 x가 있을 때 x.append(7)과 결과가 동일한 것을 모두 골라주세요\n",
    "\n",
    "\n",
    "1. x[-1:] = [7]\n",
    "2. x.insert(len(x), 7)\n",
    "3. x[0:] = 7\n",
    "4. x[len(x):] = 7\n",
    "5. x[len(x):] = [7]"
   ]
  },
  {
   "cell_type": "markdown",
   "metadata": {},
   "source": [
    "<span style=\"color:red\">답변</span>"
   ]
  },
  {
   "cell_type": "markdown",
   "metadata": {},
   "source": [
    "2, 5"
   ]
  },
  {
   "cell_type": "markdown",
   "metadata": {},
   "source": [
    "----"
   ]
  },
  {
   "cell_type": "markdown",
   "metadata": {},
   "source": [
    "<span style=\"font-size:80%\">[문제4]<br><br></span>\n",
    "리스트의 모든 요소를 삭제하는 메서드를 골라주세요\n",
    "\n",
    "1. remove\n",
    "2. clean\n",
    "3. pop\n",
    "4. clear\n",
    "5. reverse\n"
   ]
  },
  {
   "cell_type": "markdown",
   "metadata": {},
   "source": [
    "<span style=\"color:red\">답변</span>"
   ]
  },
  {
   "cell_type": "markdown",
   "metadata": {},
   "source": [
    "4"
   ]
  },
  {
   "cell_type": "markdown",
   "metadata": {},
   "source": [
    "----"
   ]
  },
  {
   "cell_type": "markdown",
   "metadata": {},
   "source": [
    "<span style=\"font-size:80%\">[문제5]<br><br></span>\n",
    "[3.1, 6.7, 4.4]가 들어있는 리스트의 값을 문자열로 변환 후 다시 리스트로 만들어 변수 x에 담는 코드를 골라주세요\n",
    "\n",
    "1. x = list(str, [3.1, 6.7, 4.4])\n",
    "2. x = map(str, [3.1, 6.7, 4.4])\n",
    "3. x = str([3.1, 6.7, 4.4])\n",
    "4. x = list(map(str, [3.1, 6.7, 4.4]))\n",
    "5. x = map(int, [3.1, 6.7, 4.4])"
   ]
  },
  {
   "cell_type": "markdown",
   "metadata": {},
   "source": [
    "<span style=\"color:red\">답변</span>"
   ]
  },
  {
   "cell_type": "markdown",
   "metadata": {},
   "source": [
    "4"
   ]
  },
  {
   "cell_type": "markdown",
   "metadata": {},
   "source": [
    "### Chapter11 : `Python의 시퀀스 자료형 중 하나인 tuple에 대해 알아보고 문제를 해결해보자`"
   ]
  },
  {
   "cell_type": "markdown",
   "metadata": {},
   "source": [
    "<span style=\"font-size:80%\">[문제1]<br><br></span>\n",
    "tuple과 list의 차이점으로 올바른 것을 모두 골라주세요\n",
    "\n",
    "1. list만 인덱싱이 가능해 원하는 값을 인덱스로 추출할 수 있다.\n",
    "2. tuple은 불변이고 list는 가변이다.\n",
    "3. tuple은 소괄호( () )를 사용하고 리스트는 대괄호( [ ] )를 사용한다.\n",
    "4. 튜플은 입출력이 자주 발행하는 경우 사용하고 리스트는 입출력이 자주 발생하지 않는 상황에 사용한다"
   ]
  },
  {
   "cell_type": "markdown",
   "metadata": {},
   "source": [
    "<span style=\"color:red\">답변</span>"
   ]
  },
  {
   "cell_type": "markdown",
   "metadata": {},
   "source": [
    "2, 3"
   ]
  },
  {
   "cell_type": "markdown",
   "metadata": {},
   "source": [
    "----"
   ]
  },
  {
   "cell_type": "markdown",
   "metadata": {},
   "source": [
    "<span style=\"font-size:80%\">[문제2]<br><br></span>\n",
    "tuple a에 사용할 수 없는 코드를 골라주세요<br>\n",
    "a = (20, 10, 15)\n",
    "\n",
    "1. print(a[:])\n",
    "2. a.pop()\n",
    "3. sum(a)\n",
    "4. a.count(20)"
   ]
  },
  {
   "cell_type": "markdown",
   "metadata": {},
   "source": [
    "<span style=\"color:red\">답변</span>"
   ]
  },
  {
   "cell_type": "markdown",
   "metadata": {},
   "source": [
    "2"
   ]
  },
  {
   "cell_type": "markdown",
   "metadata": {},
   "source": [
    "----"
   ]
  },
  {
   "cell_type": "markdown",
   "metadata": {},
   "source": [
    "<span style=\"font-size:80%\">[문제3]<br><br></span>\n",
    "아래 코드를 실행시켰을 때 발생하는 상황과 원인을 간략히 설명해주세요\n",
    "\n",
    "```\n",
    "바구니 = ( \"상추\", \"깻잎\", \"삼겹살\")\n",
    "바구니[1] = \"고사리\"\n",
    "```"
   ]
  },
  {
   "cell_type": "markdown",
   "metadata": {},
   "source": [
    "<span style=\"color:red\">답변</span>"
   ]
  },
  {
   "cell_type": "markdown",
   "metadata": {},
   "source": [
    "튜플은 불변이라 '추가', '수정', '삭제' 가 불가능하다"
   ]
  },
  {
   "cell_type": "markdown",
   "metadata": {},
   "source": [
    "### Chapter12 : `Python의 시퀀스 자료형 중 하나인 dict에 대해 알아보고 문제를 해결해보자`"
   ]
  },
  {
   "cell_type": "markdown",
   "metadata": {},
   "source": [
    "<span style=\"font-size:80%\">[문제1]<br><br></span>\n",
    "딕셔너리 x에서 키에 해당하는 값을 모두 삭제하는 방법으로 옳은 것을 모두 골라주세요\n",
    "\n",
    "x = {'banana':3000, 'apple':1500, 'orange':2000}\n",
    "\n",
    "1. x.pop('apple')\n",
    "2. x.remove('python')\n",
    "3. del x['orange']\n",
    "4. x.popitem()"
   ]
  },
  {
   "cell_type": "markdown",
   "metadata": {},
   "source": [
    "<span style=\"color:red\">답변</span>"
   ]
  },
  {
   "cell_type": "markdown",
   "metadata": {},
   "source": [
    "1, 3"
   ]
  },
  {
   "cell_type": "markdown",
   "metadata": {},
   "source": [
    "----"
   ]
  },
  {
   "cell_type": "markdown",
   "metadata": {},
   "source": [
    "<span style=\"font-size:80%\">[문제2]<br><br></span>\n",
    "딕셔너리의 메서드에 대한 설명으로 올바르지 않은 것을 모두 고르세요<br>\n",
    "\n",
    "1. setdefault는 키만 지정하면 값은 0으로 저장한다.\n",
    "2. update는 딕셔너리에서 키의 value 값을 수정한다.\n",
    "3. keys는 딕셔너리의 키-값 쌍을 모두 가져온다.\n",
    "4. clear는 딕셔너리의 모든 키-값 쌍을 삭제한다.\n",
    "5. setdefault에 키와 값을 넣어 실행하면 기존 딕셔너리에 없는 키값일 경우 키-값 쌍을 추가한다."
   ]
  },
  {
   "cell_type": "markdown",
   "metadata": {},
   "source": [
    "<span style=\"color:red\">답변</span>"
   ]
  },
  {
   "cell_type": "markdown",
   "metadata": {},
   "source": [
    "1, 3"
   ]
  },
  {
   "cell_type": "markdown",
   "metadata": {},
   "source": [
    "----"
   ]
  },
  {
   "cell_type": "markdown",
   "metadata": {},
   "source": [
    "<span style=\"font-size:80%\">[문제3]<br><br></span>\n",
    "평균 점수를 구하는 코드를 result 변수에 작성해주세요\n",
    "\n",
    "```\n",
    "ozkim = { \"국어\" : 90, \"'수학\" : 80, \"과학\" : 82, \"영어\" : 72 }\n",
    "result = \n",
    "print(result)\n",
    "```"
   ]
  },
  {
   "cell_type": "markdown",
   "metadata": {},
   "source": [
    "<span style=\"color:red\">답변</span>"
   ]
  },
  {
   "cell_type": "markdown",
   "metadata": {},
   "source": [
    "sum(ozkim.values()) / len(ozkim)"
   ]
  },
  {
   "cell_type": "markdown",
   "metadata": {},
   "source": [
    "----"
   ]
  },
  {
   "cell_type": "markdown",
   "metadata": {},
   "source": [
    "<span style=\"font-size:80%\">[문제4]<br><br></span>\n",
    "상자 딕셔너리에 아래 데이터를 추가하는 코드를 작성해 주세요\n",
    "\n",
    "```\n",
    "상자 = {\"아디다스\": [\"신발\", \"2개\"], \n",
    "            \"나이키\": [\"모자\", \"5개\"], \n",
    "            \"뉴발란스\": [\"가방\", \"1개\"]}\n",
    "````\n",
    "\n",
    "입력할 데이터 : 칼하트 / 후드티 / 2벌"
   ]
  },
  {
   "cell_type": "markdown",
   "metadata": {},
   "source": [
    "<span style=\"color:red\">답변</span>"
   ]
  },
  {
   "cell_type": "markdown",
   "metadata": {},
   "source": [
    "상자['칼하트'] = ['후드티', '2벌']"
   ]
  },
  {
   "cell_type": "markdown",
   "metadata": {},
   "source": [
    "----"
   ]
  },
  {
   "cell_type": "markdown",
   "metadata": {},
   "source": [
    "<span style=\"font-size:80%\">[문제5]<br><br></span>\n",
    "아래 keys 변수와 vals 변수에 들어있는 값을 이용해 agency_dict라는 딕셔너리를 만드는 코드를 작성해주세요 \n",
    "\n",
    "```\n",
    "keys = [\"뉴진스\", \"아이브\", \"에스파\"]\n",
    "vals = [\"하이브\" , \"스타쉽\", \"SM\"]\n",
    "```"
   ]
  },
  {
   "cell_type": "markdown",
   "metadata": {},
   "source": [
    "<span style=\"color:red\">답변</span>"
   ]
  },
  {
   "cell_type": "markdown",
   "metadata": {},
   "source": [
    "agency_dict = dict(zip(key, vals))"
   ]
  },
  {
   "cell_type": "markdown",
   "metadata": {},
   "source": [
    "### Chapter13 : `Python의 시퀀스 자료형 중 하나인 set에 대해 알아보고 문제를 해결해보자`"
   ]
  },
  {
   "cell_type": "markdown",
   "metadata": {},
   "source": [
    "<span style=\"font-size:80%\">[문제1]<br><br></span>\n",
    "세트 money의 결과로 올바른 것을 골라주세요\n",
    "\n",
    "money = { '만원', '만원', '오만원', '백원', '오만원', '십원' }\n",
    "\n",
    "1. { '백원', '십원' }\n",
    "2. {'만원', '백원', '십원', '오만원'}\n",
    "3. {'만원', '백원', '십원'}\n",
    "4. {'만원',  '오만원'}"
   ]
  },
  {
   "cell_type": "markdown",
   "metadata": {},
   "source": [
    "<span style=\"color:red\">답변</span>"
   ]
  },
  {
   "cell_type": "markdown",
   "metadata": {},
   "source": [
    "2"
   ]
  },
  {
   "cell_type": "markdown",
   "metadata": {},
   "source": [
    "----"
   ]
  },
  {
   "cell_type": "markdown",
   "metadata": {},
   "source": [
    "<span style=\"font-size:80%\">[문제2]<br><br></span>\n",
    "세트 x = {3, 6, 9} 그리고 y = {1, 2, 3}가 있을 때, 집합 연산의 결과로 잘못된 것을 모두 고르세요\n",
    "\n",
    "1. set.union(x, y)는 {1, 2, 3, 6, 9}\n",
    "2. x ^ y는 {1, 3, 6}\n",
    "3. x - y는 {6, 9}\n",
    "4. x & y는 { 3 }\n",
    "5. set.difference(y, x)는 { 2 }"
   ]
  },
  {
   "cell_type": "markdown",
   "metadata": {},
   "source": [
    "<span style=\"color:red\">답변</span>"
   ]
  },
  {
   "cell_type": "markdown",
   "metadata": {},
   "source": [
    "2, 5"
   ]
  },
  {
   "cell_type": "markdown",
   "metadata": {},
   "source": [
    "----"
   ]
  },
  {
   "cell_type": "markdown",
   "metadata": {},
   "source": [
    "<span style=\"font-size:80%\">[문제3]<br><br></span>\n",
    "과일 바구니 안에 두리안이 있는지 확인하기 위한 코드를 작성해 주세요\n",
    "\n",
    "과일_바구니 = {'사과', '포도', '샤인머스켓', '두리안'}"
   ]
  },
  {
   "cell_type": "markdown",
   "metadata": {},
   "source": [
    "<span style=\"color:red\">답변</span>"
   ]
  },
  {
   "cell_type": "markdown",
   "metadata": {},
   "source": [
    "'두리안' in 과일_바구니"
   ]
  },
  {
   "cell_type": "markdown",
   "metadata": {},
   "source": [
    "----"
   ]
  },
  {
   "cell_type": "markdown",
   "metadata": {},
   "source": [
    "<span style=\"font-size:80%\">[문제4]<br><br></span>\n",
    "메서드와 연산자의 기능이 잘못 짝지어진 것을 골라주세요\n",
    "\n",
    "1. set.intersection은 &와 같다.\n",
    "2. set.update는 |=와 같다.\n",
    "3. symmetric_difference_update는 -=와 같다.\n",
    "4. issuperset은 >와 같다.\n",
    "5. set.union은 |와 같다."
   ]
  },
  {
   "cell_type": "markdown",
   "metadata": {},
   "source": [
    "<span style=\"color:red\">답변</span>"
   ]
  },
  {
   "cell_type": "markdown",
   "metadata": {},
   "source": [
    "3"
   ]
  },
  {
   "cell_type": "markdown",
   "metadata": {},
   "source": [
    "----"
   ]
  },
  {
   "cell_type": "markdown",
   "metadata": {},
   "source": [
    "<span style=\"font-size:80%\">[문제5]<br><br></span>\n",
    "세트를 만드는 방법으로 올바르지 않은 것을 골라주세요\n",
    "\n",
    "1. x = {1, 2, 3, 4, 5}\n",
    "2. x = { }\n",
    "3. x = set('hello')\n",
    "4. x  = set(range(10))\n",
    "5. x = set()"
   ]
  },
  {
   "cell_type": "markdown",
   "metadata": {},
   "source": [
    "<span style=\"color:red\">답변</span>"
   ]
  },
  {
   "cell_type": "markdown",
   "metadata": {},
   "source": [
    "2"
   ]
  }
 ],
 "metadata": {
  "kernelspec": {
   "display_name": "Python 3",
   "language": "python",
   "name": "python3"
  },
  "language_info": {
   "codemirror_mode": {
    "name": "ipython",
    "version": 3
   },
   "file_extension": ".py",
   "mimetype": "text/x-python",
   "name": "python",
   "nbconvert_exporter": "python",
   "pygments_lexer": "ipython3",
   "version": "3.13.7"
  }
 },
 "nbformat": 4,
 "nbformat_minor": 2
}
