{
 "cells": [
  {
   "cell_type": "markdown",
   "metadata": {
    "id": "aLkxKxnFLowa"
   },
   "source": [
    "안녕하세요. 수강생 여러분~! Chapter17 ~ 20 수업은 잘 들으셨나요?\n",
    "\n",
    "Chapter01 ~ 20의 수업 내용을 바탕으로 아래 문제를 풀어주시면 됩니다.\n",
    "\n",
    "저번에 했던 \"붕어빵 자동 판매 시스템\"을 리팩토링 해봅시다 !!!\n",
    "\n",
    "못해도 괜찮아요 ! 같이 해봅시다 !\n",
    "\n",
    "<br>\n",
    "\n",
    "\n",
    "[**답변 입력 방법**]\n",
    "\n",
    "문제 아래에 있는 코드 입력창에 정답코드를 작성하신 후  __▷ 버튼을 클릭해 코드를 실행__ 해보세요<br>"
   ]
  },
  {
   "cell_type": "markdown",
   "metadata": {},
   "source": [
    "### 리팩토링 과제\n",
    "\n",
    "Day4에서 만든 \"붕어빵 자동 판매 시스템\"은 절차적 코드로 구현되어있습니다.\n",
    "<br>\n",
    "\n",
    "Day5에서 배운 함수, 클래스 개념을 적용시켜 객체지향적으로 리팩토링을 진행해주세요\n"
   ]
  },
  {
   "cell_type": "code",
   "execution_count": 3,
   "metadata": {},
   "outputs": [
    {
     "ename": "IndentationError",
     "evalue": "expected an indented block after function definition on line 4 (1469732366.py, line 6)",
     "output_type": "error",
     "traceback": [
      "  \u001b[36mCell\u001b[39m\u001b[36m \u001b[39m\u001b[32mIn[3]\u001b[39m\u001b[32m, line 6\u001b[39m\n\u001b[31m    \u001b[39m\u001b[31mdef check_stock(self):\u001b[39m\n    ^\n\u001b[31mIndentationError\u001b[39m\u001b[31m:\u001b[39m expected an indented block after function definition on line 4\n"
     ]
    }
   ],
   "source": [
    "# 리팩토링 과제 힌트\n",
    "# 구조는 아래와 같습니다.\n",
    "class BungeoppangShop:\n",
    "    def __init__(self):\n",
    "\n",
    "    def check_stock(self):\n",
    "\n",
    "    def process_order(self, bread_type, bread_count):\n",
    "\n",
    "    def admin_mode(self):\n",
    "\n",
    "    def calculate_total_sales(self):\n",
    "\n",
    "def main():\n",
    "\n",
    "if __name__ == \"__main__\":\n",
    "    main()\n"
   ]
  },
  {
   "cell_type": "markdown",
   "metadata": {},
   "source": [
    "__BungeoppangShop 클래스__\n",
    "\n",
    "- __init__(): 초기 재고, 가격, 판매량을 설정합니다.\n",
    "- check_stock(): 현재 재고를 출력합니다.\n",
    "- process_order(): 주문을 처리하고 재고를 업데이트합니다.\n",
    "- admin_mode(): 관리자 모드에서 재고를 추가합니다.\n",
    "- calculate_total_sales(): 총 매출을 계산하고 출력합니다."
   ]
  },
  {
   "cell_type": "markdown",
   "metadata": {},
   "source": [
    "__[과제 1: 초기화 메서드 __init__]__\n",
    "\n",
    "목표: __init__ 메서드를 구현하여 붕어빵 가게의 초기 재고, 가격, 판매량을 설정합니다.\n",
    "\n",
    "설명: self.stock, self.prices, self.sales 딕셔너리를 초기화하세요.\n",
    "- stock \n",
    "    - \"팥붕어빵\": 10\n",
    "    - \"슈크림붕어빵\": 8\n",
    "    - \"초코붕어빵\": 5\n",
    "\n",
    "- prices\n",
    "    - \"팥붕어빵\": 1000\n",
    "    - \"슈크림붕어빵\": 1200\n",
    "    - \"초코붕어빵\": 1500\n",
    "\n",
    "- sales\n",
    "    - \"팥붕어빵\": 0,\n",
    "    - \"슈크림붕어빵\": 0,\n",
    "    - \"초코붕어빵\": 0"
   ]
  },
  {
   "cell_type": "code",
   "execution_count": 4,
   "metadata": {},
   "outputs": [],
   "source": [
    "class BungeoppangShop:\n",
    "    def __init__(self):\n",
    "    # 1) 붕어빵의 재고를 딕셔너리로 초기화하세요.\n",
    "    # 예: {\"팥붕어빵\": 10, \"슈크림붕어빵\": 8, \"초코붕어빵\": 5}\n",
    "        self.stock = {\n",
    "            \"팥붕어빵\": 10,\n",
    "            \"슈크림붕어빵\": 8,\n",
    "            \"초코붕어빵\": 5\n",
    "        }\n",
    "    # 2) 붕어빵의 가격을 딕셔너리로 초기화하세요.\n",
    "    # 예: {\"팥붕어빵\": 1000, \"슈크림붕어빵\": 1200, \"초코붕어빵\": 1500}\n",
    "        self.prices = {\n",
    "            \"팥붕어빵\": 1000,\n",
    "            \"슈크림붕어빵\": 1200,\n",
    "            \"초코붕어빵\": 1500\n",
    "        }\n",
    "    # 3) 붕어빵의 판매량을 딕셔너리로 초기화하세요.\n",
    "    # 예: {\"팥붕어빵\": 0, \"슈크림붕어빵\": 0, \"초코붕어빵\": 0}\n",
    "        self.sales = {\n",
    "            \"팥붕어빵\": 0,\n",
    "            \"슈크림붕어빵\": 0,\n",
    "            \"초코붕어빵\": 0\n",
    "        }"
   ]
  },
  {
   "cell_type": "markdown",
   "metadata": {},
   "source": [
    "__[과제 2: 재고 확인 메서드 check_stock]__\n",
    "\n",
    "목표: check_stock 함수를 구현하여 현재 붕어빵 재고를 출력합니다.\n",
    "\n",
    "설명: self.stock 딕셔너리를 순회하며 각 붕어빵의 종류와 재고를 출력하세요.\n"
   ]
  },
  {
   "cell_type": "code",
   "execution_count": 5,
   "metadata": {},
   "outputs": [],
   "source": [
    "def check_stock(self):\n",
    "    # 1) self.stock 딕셔너리를 순회하면서 각 붕어빵 종류와 재고를 출력하세요.\n",
    "    # 힌트: for bread, count in self.stock.items():\n",
    "    #          print(f\"{bread}: {count}개\")\n",
    "    print(\"현재 붕어빵 재고\")\n",
    "    for bread, quantity in self.stock.items():\n",
    "        print(f\"{bread}: {quantity}개\")"
   ]
  },
  {
   "cell_type": "markdown",
   "metadata": {},
   "source": [
    "__[과제 3: 주문 처리 메서드 process_order]__\n",
    "\n",
    "목표: process_order 함수를 구현하여 손님의 주문을 처리하고 재고를 업데이트합니다.\n",
    "\n",
    "설명: bread_type과 bread_count를 매개변수로 받아, 재고를 확인하고 충분한 경우 재고를 감소시키고 판매량을 증가시킵니다. 재고가 부족하거나 잘못된 붕어빵 종류인 경우 적절한 메시지를 출력하세요."
   ]
  },
  {
   "cell_type": "code",
   "execution_count": 7,
   "metadata": {},
   "outputs": [],
   "source": [
    "def process_order(self, bread_type, bread_count):\n",
    "    # 1) bread_type이 self.stock에 존재하는지 확인하세요.\n",
    "    #    - 없다면 \"없는 메뉴입니다.\" 메시지를 출력하고\n",
    "    # return 처리.\n",
    "    if bread_type not in self.stock:\n",
    "        print(\"없는 메뉴입니다.\")\n",
    "        return\n",
    "    # 2) 재고가 부족하면 \"재고가 부족합니다.\"\n",
    "    # 메시지를 출력하고 return 처리.\n",
    "    if self.stock[bread_type] < bread_count:\n",
    "        print(\"재고가 부족합니다.\")\n",
    "        return\n",
    "    # 3) 재고가 충분하면:\n",
    "    #    - 재고에서 주문량을 빼세요.\n",
    "    #    - 판매량을 주문량만큼 더하세요.\n",
    "    #    - 주문 완료 메시지를 출력하세요.\n",
    "    # 예: \"주문이 완료되었습니다. {bread_type} {bread_count}개\"\n",
    "    self.stock[bread_type] -= bread_count          # 재고 차감\n",
    "    self.sales[bread_type] += bread_count          # 판매량 증가\n",
    "    print(f\"주문이 완료되었습니다: {bread_type} {bread_count}개\")\n"
   ]
  },
  {
   "cell_type": "markdown",
   "metadata": {},
   "source": [
    "__[과제 4: 관리자 모드 메서드 admin_mode]__\n",
    "\n",
    "목표: admin_mode 메서드를 구현하여 관리자 모드에서 재고를 추가할 수 있도록 합니다.\n",
    "\n",
    "설명: bread_type과 additional_stock을 입력받아 재고를 추가합니다. 잘못된 입력 값이 들어온 경우 적절한 메시지를 출력하세요."
   ]
  },
  {
   "cell_type": "code",
   "execution_count": 1,
   "metadata": {},
   "outputs": [
    {
     "ename": "IndentationError",
     "evalue": "expected an indented block after 'else' statement on line 13 (1181273963.py, line 14)",
     "output_type": "error",
     "traceback": [
      "  \u001b[36mCell\u001b[39m\u001b[36m \u001b[39m\u001b[32mIn[1]\u001b[39m\u001b[32m, line 14\u001b[39m\n\u001b[31m    \u001b[39m\u001b[31mself.stock[bread_type] += additional_stock\u001b[39m\n    ^\n\u001b[31mIndentationError\u001b[39m\u001b[31m:\u001b[39m expected an indented block after 'else' statement on line 13\n"
     ]
    }
   ],
   "source": [
    "def admin_mode(self):\n",
    "    # 1) 관리자 모드 시작 메시지를 출력하세요.\n",
    "        print(\"관리자 모드를 시작합니다.\")\n",
    "    # 2) 추가할 붕어빵 종류를 입력받으세요. 예: bread_type = input(\"추가할 붕어빵 종류: \")\n",
    "        bread_type = input(\"추가할 붕어빵 종류: \")\n",
    "    # 3) 추가할 재고량을 입력받고 정수로 변환하세요. 예: additional_stock = int(input(\"추가할 재고량: \"))\n",
    "        additional_stock = int(input(\"추가할 재고량: \"))\n",
    "    # 4) 입력받은 bread_type이 self.stock에 있는지 확인하세요.\n",
    "    #    - 없으면 \"없는 메뉴입니다.\" 메시지를 출력하세요.\n",
    "        if bread_type not in self.stock:\n",
    "            print(\"없는 메뉴입니다.\")\n",
    "    # 5) 있으면 재고를 추가하고, 추가 완료 메시지를 출력하세요.\n",
    "        else:\n",
    "        self.stock[bread_type] += additional_stock\n",
    "        print(\"추가를 완료했습니다.\")"
   ]
  },
  {
   "cell_type": "markdown",
   "metadata": {},
   "source": [
    "\n",
    "__[과제 5: 매출 계산 메서드 calculate_total_sales]__\n",
    "\n",
    "목표: calculate_total_sales 메서드를 구현하여 총 매출을 계산하고 출력합니다.\n",
    "\n",
    "설명: self.sales와 self.prices를 사용하여 총 매출을 계산하고 출력하세요."
   ]
  },
  {
   "cell_type": "code",
   "execution_count": null,
   "metadata": {},
   "outputs": [],
   "source": [
    "def calculate_total_sales(self):\n",
    "    # 1) total_sales 변수를 0으로 초기화하세요.\n",
    "        \n",
    "    # 2) self.sales 딕셔너리를 순회하면서:\n",
    "    #    - 각 붕어빵의 판매량과 가격을 곱해 total_sales에 더하세요.\n",
    "        \n",
    "    # 3) 최종적으로 총 매출을 출력하세요. 예: \"총 매출: {total_sales}원\""
   ]
  },
  {
   "cell_type": "markdown",
   "metadata": {},
   "source": [
    "__[과제 6: 메인 함수 main]__\n",
    "\n",
    "목표: main 함수를 작성하여 프로그램의 주요 로직을 실행합니다.\n",
    "\n",
    "설명:\n",
    "- BungeoppangShop 객체를 생성합니다.\n",
    "- 사용자에게 모드를 선택하도록 요청합니다.\n",
    "- \"주문\" 모드에서는 손님의 주문을 처리하고, \"관리자\" 모드에서는 재고를 추가할 수 있습니다.\n",
    "- 프로그램이 종료될 때 총 매출을 계산하고 데이터를 저장합니다.\n"
   ]
  },
  {
   "cell_type": "code",
   "execution_count": null,
   "metadata": {},
   "outputs": [],
   "source": [
    "def main():\n",
    "    # 1) BungeoppangShop 객체를 생성하세요.\n",
    "    \n",
    "    # 2) 프로그램 시작 메시지를 출력하세요.\n",
    "    \n",
    "    # 3) while 루프를 만들어 프로그램을 계속 실행합니다.\n",
    "    #    - 사용자에게 \"주문\", \"관리자\", \"종료\" 중 하나를 입력받습니다.\n",
    "    #    - \"주문\" 모드:\n",
    "    #         - 주문할 붕어빵 종류와 개수를 입력받아 process_order 호출.\n",
    "    #         - 주문 후 check_stock 호출.\n",
    "    #    - \"관리자\" 모드:\n",
    "    #         - admin_mode 호출.\n",
    "    #    - \"종료\"를 입력하면 루프를 종료하세요.\n",
    "    #    - 잘못된 입력이라면 \"잘못된 입력입니다.\"를 출력하세요.\n",
    "    \n",
    "    # 4) 프로그램 종료 시 calculate_total_sales 호출.\n",
    "    # 5) 종료 메시지를 출력하세요."
   ]
  },
  {
   "cell_type": "markdown",
   "metadata": {},
   "source": [
    "__[과제 7: 최종 BungeoppangShop 클래스]__\n",
    "\n",
    "함수로 리팩토링한 \"붕어빵 자동 판매 시스템\" 작성 후 실행합니다. "
   ]
  },
  {
   "cell_type": "code",
   "execution_count": null,
   "metadata": {},
   "outputs": [],
   "source": []
  }
 ],
 "metadata": {
  "colab": {
   "authorship_tag": "ABX9TyMfxSNOybrh/E7+DQqfYMY3",
   "provenance": []
  },
  "kernelspec": {
   "display_name": "Python 3",
   "name": "python3"
  },
  "language_info": {
   "codemirror_mode": {
    "name": "ipython",
    "version": 3
   },
   "file_extension": ".py",
   "mimetype": "text/x-python",
   "name": "python",
   "nbconvert_exporter": "python",
   "pygments_lexer": "ipython3",
   "version": "3.13.7"
  }
 },
 "nbformat": 4,
 "nbformat_minor": 0
}
