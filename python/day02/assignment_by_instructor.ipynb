{
 "cells": [
  {
   "cell_type": "code",
   "execution_count": null,
   "id": "30c35224",
   "metadata": {},
   "outputs": [
    {
     "name": "stdout",
     "output_type": "stream",
     "text": [
      "숫자 맞추기 게임\n",
      "컴퓨터가 1~10의 숫자중에 하나를 고릅니다\n",
      "그 숫자를 맞춰 보세요\n",
      "너무 작아요!\n",
      "너무 커요!\n",
      "정답입니다! 3번 만에 맞췄어요!\n"
     ]
    }
   ],
   "source": [
    "import random\n",
    "\n",
    "print(\"숫자 맞추기 게임\")\n",
    "print(\"컴퓨터가 1~10의 숫자중에 하나를 고릅니다\")\n",
    "print(\"그 숫자를 맞춰 보세요\")\n",
    "\n",
    "secret_number = random.randint(1,10)\n",
    "attempts = 0\n",
    "\n",
    "while True:\n",
    "    guess = input(\"숫자를 입력하세요: \")\n",
    "    guess = int(guess)\n",
    "    attempts += 1\n",
    "\n",
    "    if guess < secret_number:\n",
    "        print(\"너무 작아요!\")\n",
    "    elif guess > secret_number:\n",
    "        print(\"너무 커요!\")\n",
    "    else:\n",
    "        print(f\"정답입니다! {attempts}번 만에 맞췄어요!\")\n",
    "        break"
   ]
  },
  {
   "cell_type": "code",
   "execution_count": null,
   "id": "fab13572",
   "metadata": {},
   "outputs": [],
   "source": [
    "# 예시\n",
    "# @title 완성코드\n",
    "\n",
    "import random\n",
    "\n",
    "print(\"🎯 숫자 맞추기 게임에 오신 것을 환영합니다!\")\n",
    "print(\"컴퓨터가 1부터 100 사이의 숫자를 선택했습니다.\")\n",
    "print(\"그 숫자를 맞춰보세요!\")\n",
    "\n",
    "# 컴퓨터가 1~100 사이 숫자 선택\n",
    "secret_number = random.randint(1, 10)\n",
    "attempts = 0\n",
    "\n",
    "# 정답을 맞출 때까지 반복\n",
    "while True:\n",
    "   # 사용자 입력 받기\n",
    "   guess = int(input(\"숫자를 입력하세요 (1~10): \"))\n",
    "   attempts += 1\n",
    "\n",
    "   # 결과 확인 및 출력\n",
    "   if guess == secret_number:\n",
    "       print(f\"🎉 축하합니다! 정답은 {secret_number}였습니다!\")\n",
    "       print(f\"총 {attempts}번 만에 맞추셨네요!\")\n",
    "       print(\"당신은 천재입니다!\")\n",
    "       break  # 정답을 맞추면 반복문 종료\n",
    "   elif guess < secret_number:\n",
    "       print(f\"⬆️ 틀렸습니다! 더 큰 숫자입니다.\")\n",
    "   else:\n",
    "       print(f\"⬇️ 틀렸습니다! 더 작은 숫자입니다.\")\n",
    "\n",
    "print(\"\\n게임이 끝났습니다. 다음에 또 도전해보세요! 👋\")"
   ]
  }
 ],
 "metadata": {
  "kernelspec": {
   "display_name": "Python 3",
   "language": "python",
   "name": "python3"
  },
  "language_info": {
   "codemirror_mode": {
    "name": "ipython",
    "version": 3
   },
   "file_extension": ".py",
   "mimetype": "text/x-python",
   "name": "python",
   "nbconvert_exporter": "python",
   "pygments_lexer": "ipython3",
   "version": "3.13.7"
  }
 },
 "nbformat": 4,
 "nbformat_minor": 5
}
